{
 "cells": [
  {
   "cell_type": "code",
   "execution_count": 1,
   "id": "c85726bc",
   "metadata": {},
   "outputs": [],
   "source": [
    "import os\n",
    "from tensorflow import keras\n",
    "from tensorflow.keras.preprocessing.image import ImageDataGenerator\n",
    "\n",
    "from tensorflow.keras.models import Sequential\n",
    "from tensorflow.keras.layers import Dense, Dropout\n",
    "from tensorflow.keras.layers import Conv2D, MaxPooling2D, Flatten\n",
    "from matplotlib.cbook import flatten\n",
    "\n",
    "import numpy as np\n",
    "import tensorflow as tf\n",
    "import matplotlib.pyplot as plt"
   ]
  },
  {
   "cell_type": "code",
   "execution_count": 2,
   "id": "0a8e76aa",
   "metadata": {},
   "outputs": [],
   "source": [
    "train_dir = 'C:/Users/dkwhs/Downloads/train/train'\n",
    "test_dir = 'C:/Users/dkwhs/Downloads/train/test2'\n",
    "validation_dir = 'C:/Users/dkwhs/Downloads/train/validation2'\n",
    "\n",
    "train_dogs_dir = 'C:/Users/dkwhs/Downloads/train/train/dogs'\n",
    "train_cats_dir = 'C:/Users/dkwhs/Downloads/train/train/cats'\n",
    "\n",
    "test_dogs_dir = 'C:/Users/dkwhs/Downloads/train/test2/dogs'\n",
    "test_cats_dir = 'C:/Users/dkwhs/Downloads/train/test2/cats'\n",
    "\n",
    "validation_dogs_dir = 'C:/Users/dkwhs/Downloads/train/validation2/dogs'\n",
    "validation_cats_dir = 'C:/Users/dkwhs/Downloads/train/validation2/cats'\n"
   ]
  },
  {
   "cell_type": "code",
   "execution_count": 3,
   "id": "5ed99517",
   "metadata": {},
   "outputs": [
    {
     "name": "stdout",
     "output_type": "stream",
     "text": [
      "훈련 개 데이터 수 : 12500\n",
      "훈련 고양이 데이터 수 : 12500\n",
      "테스트 개 데이터 수 : 500\n",
      "테스트 고양이 데이터 수 : 500\n",
      "평가 개 데이터 수 : 1000\n",
      "평가 고양이 데이터 수 : 1000\n"
     ]
    }
   ],
   "source": [
    "#listdir(): 해당 폴더에 있는 파일을 가져온다.\n",
    "print(\"훈련 개 데이터 수 : {}\".format(len(os.listdir(train_dogs_dir))))\n",
    "print(\"훈련 고양이 데이터 수 : {}\".format(len(os.listdir(train_cats_dir))))\n",
    "\n",
    "print(\"테스트 개 데이터 수 : {}\".format(len(os.listdir(test_dogs_dir))))\n",
    "print(\"테스트 고양이 데이터 수 : {}\".format(len(os.listdir(test_cats_dir))))\n",
    "\n",
    "print(\"평가 개 데이터 수 : {}\".format(len(os.listdir(validation_dogs_dir))))\n",
    "print(\"평가 고양이 데이터 수 : {}\".format(len(os.listdir(validation_cats_dir))))"
   ]
  },
  {
   "cell_type": "code",
   "execution_count": 4,
   "id": "ebde22c6",
   "metadata": {},
   "outputs": [],
   "source": [
    "#스케일링\n",
    "train_gen = ImageDataGenerator( rescale = 1./255)\n",
    "val_gen = ImageDataGenerator( rescale = 1./255)\n",
    "test_gen = ImageDataGenerator( rescale = 1./255)"
   ]
  },
  {
   "cell_type": "code",
   "execution_count": 5,
   "id": "cfb9e5e1",
   "metadata": {
    "scrolled": true
   },
   "outputs": [
    {
     "name": "stdout",
     "output_type": "stream",
     "text": [
      "Found 25000 images belonging to 2 classes.\n",
      "Found 2000 images belonging to 2 classes.\n",
      "Found 1000 images belonging to 2 classes.\n"
     ]
    }
   ],
   "source": [
    "# flow_from_directory: 폴더에서 이미지 가져오기\n",
    "# 폴더명, 이미지 크기, 한번에 변환 할 이미지 수, 라벨링 모드\n",
    "# 이진분류 = binary, 다중 분류 = categorical \n",
    "# 라벨 번호는 0부터 시작(cat은 0, dog는 1)\n",
    "train_generator = train_gen.flow_from_directory(train_dir,\n",
    "                              target_size =(64,64),\n",
    "                              batch_size=32,\n",
    "                              class_mode = 'binary')\n",
    "val_generator = val_gen.flow_from_directory( validation_dir,\n",
    "                            target_size = (64,64),\n",
    "                            batch_size=32,\n",
    "                            class_mode =  'binary')\n",
    "test_generator = test_gen.flow_from_directory( test_dir,\n",
    "                            target_size = (64,64),\n",
    "                            batch_size=32,\n",
    "                            class_mode =  'binary')"
   ]
  },
  {
   "cell_type": "code",
   "execution_count": 6,
   "id": "f64a6bd3",
   "metadata": {
    "scrolled": true
   },
   "outputs": [
    {
     "name": "stdout",
     "output_type": "stream",
     "text": [
      "Model: \"sequential\"\n",
      "_________________________________________________________________\n",
      " Layer (type)                Output Shape              Param #   \n",
      "=================================================================\n",
      " conv2d (Conv2D)             (None, 64, 64, 32)        896       \n",
      "                                                                 \n",
      " max_pooling2d (MaxPooling2D  (None, 32, 32, 32)       0         \n",
      " )                                                               \n",
      "                                                                 \n",
      " conv2d_1 (Conv2D)           (None, 32, 32, 32)        9248      \n",
      "                                                                 \n",
      " max_pooling2d_1 (MaxPooling  (None, 16, 16, 32)       0         \n",
      " 2D)                                                             \n",
      "                                                                 \n",
      " flatten (Flatten)           (None, 8192)              0         \n",
      "                                                                 \n",
      " dense (Dense)               (None, 128)               1048704   \n",
      "                                                                 \n",
      " dense_1 (Dense)             (None, 1)                 129       \n",
      "                                                                 \n",
      "=================================================================\n",
      "Total params: 1,058,977\n",
      "Trainable params: 1,058,977\n",
      "Non-trainable params: 0\n",
      "_________________________________________________________________\n"
     ]
    }
   ],
   "source": [
    "c_model = Sequential()\n",
    "\n",
    "# 입력층(CNN)\n",
    "# 특징을 도드라지게 해준다\n",
    "c_model.add(Conv2D(filters = 32, # 사진에서 찾을 특성 개수\n",
    "                   kernel_size = (3,3), # 한번에 확인할 픽셀의 수\n",
    "                   input_shape = (64,64,3), # 입력 데이터의 크기\n",
    "                   padding = 'same', # 가장 자리를 0으로 채움 \n",
    "                  # same : 입력데이터의 크기와 동일하게 맞춰준다\n",
    "                   activation = 'relu'))\n",
    "#불필요한 부분 삭제\n",
    "c_model.add(MaxPooling2D(pool_size = (2,2),strides=2))\n",
    "\n",
    "c_model.add(Conv2D(filters = 32, # 사진에서 찾을 특성 개수\n",
    "                   kernel_size = (3,3), # 한번에 확인할 픽셀의 수\n",
    "                   input_shape = (64,64,3), # 입력 데이터의 크기\n",
    "                   padding = 'same', # 가장 자리를 0으로 채움(입력이미지크기=출력이미지크기)\n",
    "                  # same : 입력데이터의 크기와 동일하게 맞춰준다\n",
    "                   activation = 'relu'))\n",
    "\n",
    "c_model.add(MaxPooling2D(pool_size = (2,2),strides=2))\n",
    "\n",
    "# 1차원으로 데이터 축소\n",
    "c_model.add(Flatten())\n",
    "\n",
    "#은닉층\n",
    "c_model.add(Dense(units=128, activation = 'relu'))\n",
    "\n",
    "#출력층\n",
    "c_model.add(Dense(units=1, activation= 'sigmoid'))\n",
    "\n",
    "c_model.summary()"
   ]
  },
  {
   "cell_type": "code",
   "execution_count": 7,
   "id": "6478ed97",
   "metadata": {},
   "outputs": [
    {
     "name": "stdout",
     "output_type": "stream",
     "text": [
      "Epoch 1/60\n"
     ]
    },
    {
     "name": "stderr",
     "output_type": "stream",
     "text": [
      "C:\\Users\\dkwhs\\anaconda3\\lib\\site-packages\\keras\\optimizers\\optimizer_v2\\adam.py:110: UserWarning: The `lr` argument is deprecated, use `learning_rate` instead.\n",
      "  super(Adam, self).__init__(name, **kwargs)\n",
      "C:\\Users\\dkwhs\\AppData\\Local\\Temp\\ipykernel_2824\\2580485866.py:5: UserWarning: `Model.fit_generator` is deprecated and will be removed in a future version. Please use `Model.fit`, which supports generators.\n",
      "  history = c_model.fit_generator(generator=train_generator,\n"
     ]
    },
    {
     "name": "stdout",
     "output_type": "stream",
     "text": [
      "200/200 [==============================] - 20s 96ms/step - loss: 0.6549 - accuracy: 0.6105 - val_loss: 0.6068 - val_accuracy: 0.6562\n",
      "Epoch 2/60\n",
      "200/200 [==============================] - 18s 89ms/step - loss: 0.5651 - accuracy: 0.7163 - val_loss: 0.5600 - val_accuracy: 0.7031\n",
      "Epoch 3/60\n",
      "200/200 [==============================] - 18s 88ms/step - loss: 0.5318 - accuracy: 0.7375 - val_loss: 0.4628 - val_accuracy: 0.7812\n",
      "Epoch 4/60\n",
      "200/200 [==============================] - 17s 86ms/step - loss: 0.4938 - accuracy: 0.7633 - val_loss: 0.5009 - val_accuracy: 0.7656\n",
      "Epoch 5/60\n",
      "200/200 [==============================] - 17s 83ms/step - loss: 0.4848 - accuracy: 0.7627 - val_loss: 0.5607 - val_accuracy: 0.7500\n",
      "Epoch 6/60\n",
      "200/200 [==============================] - 16s 82ms/step - loss: 0.4553 - accuracy: 0.7887 - val_loss: 0.6001 - val_accuracy: 0.7031\n",
      "Epoch 7/60\n",
      "200/200 [==============================] - 16s 82ms/step - loss: 0.4365 - accuracy: 0.7997 - val_loss: 0.4258 - val_accuracy: 0.7969\n",
      "Epoch 8/60\n",
      "200/200 [==============================] - 17s 84ms/step - loss: 0.4160 - accuracy: 0.8101 - val_loss: 0.3966 - val_accuracy: 0.8125\n",
      "Epoch 9/60\n",
      "200/200 [==============================] - 16s 81ms/step - loss: 0.4115 - accuracy: 0.8094 - val_loss: 0.3598 - val_accuracy: 0.8750\n",
      "Epoch 10/60\n",
      "200/200 [==============================] - 16s 80ms/step - loss: 0.3780 - accuracy: 0.8273 - val_loss: 0.6660 - val_accuracy: 0.6875\n",
      "Epoch 11/60\n",
      "200/200 [==============================] - 16s 81ms/step - loss: 0.3645 - accuracy: 0.8347 - val_loss: 0.3542 - val_accuracy: 0.8281\n",
      "Epoch 12/60\n",
      "200/200 [==============================] - 16s 80ms/step - loss: 0.3573 - accuracy: 0.8453 - val_loss: 0.4173 - val_accuracy: 0.8125\n",
      "Epoch 13/60\n",
      "200/200 [==============================] - 16s 82ms/step - loss: 0.3479 - accuracy: 0.8476 - val_loss: 0.2828 - val_accuracy: 0.8750\n",
      "Epoch 14/60\n",
      "200/200 [==============================] - 16s 80ms/step - loss: 0.3296 - accuracy: 0.8569 - val_loss: 0.2949 - val_accuracy: 0.9062\n",
      "Epoch 15/60\n",
      "200/200 [==============================] - 17s 83ms/step - loss: 0.3069 - accuracy: 0.8687 - val_loss: 0.3417 - val_accuracy: 0.8906\n",
      "Epoch 16/60\n",
      "200/200 [==============================] - 16s 79ms/step - loss: 0.2929 - accuracy: 0.8736 - val_loss: 0.3072 - val_accuracy: 0.8594\n",
      "Epoch 17/60\n",
      "200/200 [==============================] - 16s 79ms/step - loss: 0.2741 - accuracy: 0.8875 - val_loss: 0.2365 - val_accuracy: 0.8750\n",
      "Epoch 18/60\n",
      "200/200 [==============================] - 16s 80ms/step - loss: 0.2591 - accuracy: 0.8977 - val_loss: 0.2330 - val_accuracy: 0.8594\n",
      "Epoch 19/60\n",
      "200/200 [==============================] - 16s 78ms/step - loss: 0.2482 - accuracy: 0.8989 - val_loss: 0.1126 - val_accuracy: 0.9531\n",
      "Epoch 20/60\n",
      "200/200 [==============================] - 16s 79ms/step - loss: 0.2229 - accuracy: 0.9141 - val_loss: 0.1501 - val_accuracy: 0.9375\n",
      "Epoch 21/60\n",
      "200/200 [==============================] - 16s 78ms/step - loss: 0.2061 - accuracy: 0.9175 - val_loss: 0.1832 - val_accuracy: 0.9531\n",
      "Epoch 22/60\n",
      "200/200 [==============================] - 16s 79ms/step - loss: 0.1984 - accuracy: 0.9205 - val_loss: 0.1109 - val_accuracy: 0.9688\n",
      "Epoch 23/60\n",
      "200/200 [==============================] - 16s 80ms/step - loss: 0.1672 - accuracy: 0.9380 - val_loss: 0.1855 - val_accuracy: 0.9219\n",
      "Epoch 24/60\n",
      "200/200 [==============================] - 16s 81ms/step - loss: 0.1546 - accuracy: 0.9420 - val_loss: 0.2282 - val_accuracy: 0.8906\n",
      "Epoch 25/60\n",
      "200/200 [==============================] - 16s 79ms/step - loss: 0.1395 - accuracy: 0.9495 - val_loss: 0.0873 - val_accuracy: 0.9531\n",
      "Epoch 26/60\n",
      "200/200 [==============================] - 16s 78ms/step - loss: 0.1388 - accuracy: 0.9497 - val_loss: 0.1182 - val_accuracy: 0.9688\n",
      "Epoch 27/60\n",
      "200/200 [==============================] - 16s 79ms/step - loss: 0.1292 - accuracy: 0.9527 - val_loss: 0.0980 - val_accuracy: 0.9688\n",
      "Epoch 28/60\n",
      "200/200 [==============================] - 16s 79ms/step - loss: 0.1108 - accuracy: 0.9616 - val_loss: 0.1942 - val_accuracy: 0.9062\n",
      "Epoch 29/60\n",
      "200/200 [==============================] - 16s 78ms/step - loss: 0.0887 - accuracy: 0.9689 - val_loss: 0.0658 - val_accuracy: 0.9844\n",
      "Epoch 30/60\n",
      "200/200 [==============================] - 16s 79ms/step - loss: 0.0871 - accuracy: 0.9704 - val_loss: 0.1404 - val_accuracy: 0.9688\n",
      "Epoch 31/60\n",
      "200/200 [==============================] - 16s 78ms/step - loss: 0.0838 - accuracy: 0.9729 - val_loss: 0.0778 - val_accuracy: 0.9531\n",
      "Epoch 32/60\n",
      "200/200 [==============================] - 16s 78ms/step - loss: 0.0754 - accuracy: 0.9762 - val_loss: 0.0431 - val_accuracy: 0.9844\n",
      "Epoch 33/60\n",
      "200/200 [==============================] - 16s 78ms/step - loss: 0.0750 - accuracy: 0.9753 - val_loss: 0.0391 - val_accuracy: 0.9844\n",
      "Epoch 34/60\n",
      "200/200 [==============================] - 16s 78ms/step - loss: 0.0602 - accuracy: 0.9803 - val_loss: 0.0550 - val_accuracy: 0.9688\n",
      "Epoch 35/60\n",
      "200/200 [==============================] - 16s 78ms/step - loss: 0.0535 - accuracy: 0.9848 - val_loss: 0.0815 - val_accuracy: 0.9531\n",
      "Epoch 36/60\n",
      "200/200 [==============================] - 16s 78ms/step - loss: 0.0493 - accuracy: 0.9842 - val_loss: 0.1089 - val_accuracy: 0.9531\n",
      "Epoch 37/60\n",
      "200/200 [==============================] - 16s 79ms/step - loss: 0.0534 - accuracy: 0.9845 - val_loss: 0.0533 - val_accuracy: 0.9844\n",
      "Epoch 38/60\n",
      "200/200 [==============================] - 16s 78ms/step - loss: 0.0437 - accuracy: 0.9867 - val_loss: 0.0689 - val_accuracy: 0.9844\n",
      "Epoch 39/60\n",
      "200/200 [==============================] - 16s 79ms/step - loss: 0.0388 - accuracy: 0.9877 - val_loss: 0.0810 - val_accuracy: 0.9844\n",
      "Epoch 40/60\n",
      "200/200 [==============================] - 16s 79ms/step - loss: 0.0461 - accuracy: 0.9844 - val_loss: 0.0110 - val_accuracy: 1.0000\n",
      "Epoch 41/60\n",
      "200/200 [==============================] - 16s 78ms/step - loss: 0.0347 - accuracy: 0.9900 - val_loss: 0.0114 - val_accuracy: 1.0000\n",
      "Epoch 42/60\n",
      "200/200 [==============================] - 16s 80ms/step - loss: 0.0396 - accuracy: 0.9876 - val_loss: 0.0443 - val_accuracy: 0.9844\n",
      "Epoch 43/60\n",
      "200/200 [==============================] - 16s 79ms/step - loss: 0.0395 - accuracy: 0.9881 - val_loss: 0.0296 - val_accuracy: 0.9844\n",
      "Epoch 44/60\n",
      "200/200 [==============================] - 17s 87ms/step - loss: 0.0382 - accuracy: 0.9859 - val_loss: 0.0507 - val_accuracy: 0.9844\n",
      "Epoch 45/60\n",
      "200/200 [==============================] - 18s 89ms/step - loss: 0.0305 - accuracy: 0.9906 - val_loss: 0.0055 - val_accuracy: 1.0000\n",
      "Epoch 46/60\n",
      "200/200 [==============================] - 18s 88ms/step - loss: 0.0372 - accuracy: 0.9864 - val_loss: 0.0268 - val_accuracy: 0.9844\n",
      "Epoch 47/60\n",
      "200/200 [==============================] - 17s 87ms/step - loss: 0.0182 - accuracy: 0.9945 - val_loss: 0.0063 - val_accuracy: 1.0000\n",
      "Epoch 48/60\n",
      "200/200 [==============================] - 18s 91ms/step - loss: 0.0174 - accuracy: 0.9948 - val_loss: 0.0093 - val_accuracy: 1.0000\n",
      "Epoch 49/60\n",
      "200/200 [==============================] - 18s 92ms/step - loss: 0.0361 - accuracy: 0.9884 - val_loss: 0.0283 - val_accuracy: 1.0000\n",
      "Epoch 50/60\n",
      "200/200 [==============================] - 18s 90ms/step - loss: 0.0481 - accuracy: 0.9850 - val_loss: 0.0031 - val_accuracy: 1.0000\n",
      "Epoch 51/60\n",
      "200/200 [==============================] - 18s 88ms/step - loss: 0.0165 - accuracy: 0.9951 - val_loss: 0.0052 - val_accuracy: 1.0000\n",
      "Epoch 52/60\n",
      "200/200 [==============================] - 19s 93ms/step - loss: 0.0257 - accuracy: 0.9917 - val_loss: 0.0114 - val_accuracy: 1.0000\n",
      "Epoch 53/60\n",
      "200/200 [==============================] - 18s 89ms/step - loss: 0.0119 - accuracy: 0.9962 - val_loss: 0.0066 - val_accuracy: 1.0000\n",
      "Epoch 54/60\n",
      "200/200 [==============================] - 18s 89ms/step - loss: 0.0234 - accuracy: 0.9917 - val_loss: 0.0034 - val_accuracy: 1.0000\n",
      "Epoch 55/60\n",
      "200/200 [==============================] - 18s 89ms/step - loss: 0.0278 - accuracy: 0.9907 - val_loss: 0.0697 - val_accuracy: 0.9844\n",
      "Epoch 56/60\n",
      "200/200 [==============================] - 18s 90ms/step - loss: 0.0205 - accuracy: 0.9937 - val_loss: 0.0099 - val_accuracy: 1.0000\n",
      "Epoch 57/60\n"
     ]
    },
    {
     "name": "stdout",
     "output_type": "stream",
     "text": [
      "200/200 [==============================] - 18s 88ms/step - loss: 0.0130 - accuracy: 0.9955 - val_loss: 0.0026 - val_accuracy: 1.0000\n",
      "Epoch 58/60\n",
      "200/200 [==============================] - 18s 88ms/step - loss: 0.0147 - accuracy: 0.9947 - val_loss: 0.0026 - val_accuracy: 1.0000\n",
      "Epoch 59/60\n",
      "200/200 [==============================] - 18s 88ms/step - loss: 0.0402 - accuracy: 0.9857 - val_loss: 0.0679 - val_accuracy: 0.9688\n",
      "Epoch 60/60\n",
      "200/200 [==============================] - 18s 88ms/step - loss: 0.0257 - accuracy: 0.9931 - val_loss: 0.0271 - val_accuracy: 0.9844\n"
     ]
    }
   ],
   "source": [
    "adam = keras.optimizers.Adam(lr=0.001, beta_1=0.9, beta_2=0.999, epsilon=None, decay=0.0, amsgrad=False)\n",
    "c_model.compile(loss='binary_crossentropy',\n",
    "                optimizer = adam,\n",
    "                metrics=['accuracy'])\n",
    "history = c_model.fit_generator(generator=train_generator,\n",
    "            steps_per_epoch=200,\n",
    "            epochs=60,\n",
    "            validation_data = val_generator,\n",
    "            validation_steps = 2)"
   ]
  },
  {
   "cell_type": "code",
   "execution_count": 8,
   "id": "ad3ba115",
   "metadata": {},
   "outputs": [
    {
     "data": {
      "image/png": "[encoded data removed]",
      "text/plain": [
       "<Figure size 432x288 with 1 Axes>"
      ]
     },
     "metadata": {
      "needs_background": "light"
     },
     "output_type": "display_data"
    }
   ],
   "source": [
    "\n",
    "plt.plot(history.history['accuracy'], label='training accuracy')\n",
    "plt.plot(history.history['val_accuracy'], label='val accuracy')\n",
    "plt.title('Accuracy')\n",
    "plt.xlabel('epochs')\n",
    "plt.ylabel('accuracy')\n",
    "plt.legend()\n",
    "plt.show()"
   ]
  },
  {
   "cell_type": "code",
   "execution_count": 9,
   "id": "ac0f44f0",
   "metadata": {},
   "outputs": [],
   "source": [
    "c_model.save(\"CatDog.h5\")"
   ]
  },
  {
   "cell_type": "code",
   "execution_count": 10,
   "id": "8c297356",
   "metadata": {},
   "outputs": [
    {
     "data": {
      "text/plain": [
       "'C:\\\\Users\\\\dkwhs'"
      ]
     },
     "execution_count": 10,
     "metadata": {},
     "output_type": "execute_result"
    }
   ],
   "source": [
    "pwd"
   ]
  },
  {
   "cell_type": "code",
   "execution_count": 11,
   "id": "87458462",
   "metadata": {},
   "outputs": [
    {
     "name": "stdout",
     "output_type": "stream",
     "text": [
      "Model: \"sequential\"\n",
      "_________________________________________________________________\n",
      " Layer (type)                Output Shape              Param #   \n",
      "=================================================================\n",
      " conv2d (Conv2D)             (None, 64, 64, 32)        896       \n",
      "                                                                 \n",
      " max_pooling2d (MaxPooling2D  (None, 32, 32, 32)       0         \n",
      " )                                                               \n",
      "                                                                 \n",
      " conv2d_1 (Conv2D)           (None, 32, 32, 32)        9248      \n",
      "                                                                 \n",
      " max_pooling2d_1 (MaxPooling  (None, 16, 16, 32)       0         \n",
      " 2D)                                                             \n",
      "                                                                 \n",
      " flatten (Flatten)           (None, 8192)              0         \n",
      "                                                                 \n",
      " dense (Dense)               (None, 128)               1048704   \n",
      "                                                                 \n",
      " dense_1 (Dense)             (None, 1)                 129       \n",
      "                                                                 \n",
      "=================================================================\n",
      "Total params: 1,058,977\n",
      "Trainable params: 1,058,977\n",
      "Non-trainable params: 0\n",
      "_________________________________________________________________\n"
     ]
    }
   ],
   "source": [
    "from keras.models import load_model\n",
    "\n",
    "model = load_model(\"C:/Users/dkwhs/CatDog.h5\")\n",
    "model.summary()"
   ]
  }
 ],
 "metadata": {
  "kernelspec": {
   "display_name": "Python 3 (ipykernel)",
   "language": "python",
   "name": "python3"
  },
  "language_info": {
   "codemirror_mode": {
    "name": "ipython",
    "version": 3
   },
   "file_extension": ".py",
   "mimetype": "text/x-python",
   "name": "python",
   "nbconvert_exporter": "python",
   "pygments_lexer": "ipython3",
   "version": "3.9.12"
  }
 },
 "nbformat": 4,
 "nbformat_minor": 5
}
